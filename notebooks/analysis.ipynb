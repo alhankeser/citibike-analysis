{
 "cells": [
  {
   "cell_type": "markdown",
   "metadata": {},
   "source": [
    "# Extracting and Transforming Citi Bike Data for Analysis \n",
    "## How is Citi Bike availability affected by various factors like time of day and weather?\n",
    "\n",
    "### Who:\n",
    "I am [Alhan Keser](https://blog.alhan.co/), a [10+ year specialist in Web Experimentation](https://www.linkedin.com/in/alhankeser/) (aka A/B Testing, Conversion Optimization), on my way to a Master's in Data Science.\n",
    "\n",
    "### What:\n",
    "This is an original analysis of Citi Bike station data from May-June 2019 to find out what affect the day of week, time of day, and weather (temperature, precipitation, etc...) have on the availability of bikes at station-,  neighborhood-, and borough-levels. \n",
    "\n",
    "### Why:\n",
    "- I wanted to push myself to extract and transform my own data. Skipping the entire ETL process and going straight into analysis is a luxury: it does not reflect reality. \n",
    "- Doing a time-series analysis is something that I wanted practice with. \n",
    "- I commute by bike every day (despite weather) so I have first-hand evidence that Citi Bike riders tend to shy away from biking in inclement weather. It will be interesting to visualize the differences here.   \n",
    "\n",
    "### How:\n",
    "- **Combined original data sources:**\n",
    "    - [Citi Bike Live Station Status](https://feeds.citibikenyc.com/stations/stations.json)\n",
    "    - [Dark Sky Weather API](https://darksky.net/dev/docs)\n",
    "    - [Google Geocoding API](https://developers.google.com/maps/documentation/geocoding/intro)\n",
    "- **Created cron jobs** to collect Citi Bike station statuses for all ~858 station, every 3 minutes, for ~2 months.\n",
    "    - Total rows in final table: 5,800,274\n",
    "    - \"Why stop after 2 months,\" you ask? Because my server ran out of space while I was on vacation. Oops! \n",
    "- **Created a mini-ETL process** to transform data into the final output used below. \n",
    "    - Along the way, there were many errors, some of which I will resolve here.\n",
    "\n",
    "### Table of Contents\n",
    "- [Packages](#Packages)\n",
    "- [Extracting](#Extracting)\n",
    "    - [Stations](#Stations)\n",
    "    - [Geocoding](#Geocoding)\n",
    "    - [Weather](#Weather)\n",
    "    - [Cron Jobs](#Cron-Jobs)\n",
    "- [Transforming](#Transforming)\n",
    "    - [Availability by Station](#Availability-by-Station)\n",
    "    - [Predicted vs Observed Weather](#Predicted-vs-Observed-Weather)"
   ]
  },
  {
   "cell_type": "markdown",
   "metadata": {},
   "source": [
    "### Packages"
   ]
  },
  {
   "cell_type": "code",
   "execution_count": 14,
   "metadata": {},
   "outputs": [],
   "source": [
    "import pandas as pd\n",
    "import warnings\n",
    "warnings.filterwarnings('ignore')"
   ]
  },
  {
   "cell_type": "markdown",
   "metadata": {},
   "source": [
    "### Extracting"
   ]
  },
  {
   "cell_type": "markdown",
   "metadata": {},
   "source": [
    "#### Stations"
   ]
  },
  {
   "cell_type": "code",
   "execution_count": 5,
   "metadata": {},
   "outputs": [],
   "source": [
    "stations_raw = pd.read_csv(\"../input/stations_raw.csv\") # 16.49 GB output from base SQL table"
   ]
  },
  {
   "cell_type": "code",
   "execution_count": 7,
   "metadata": {},
   "outputs": [
    {
     "data": {
      "text/plain": [
       "(41325, 3)"
      ]
     },
     "execution_count": 7,
     "metadata": {},
     "output_type": "execute_result"
    }
   ],
   "source": [
    "stations_raw.shape"
   ]
  },
  {
   "cell_type": "code",
   "execution_count": 34,
   "metadata": {},
   "outputs": [
    {
     "data": {
      "text/html": [
       "<div>\n",
       "<style scoped>\n",
       "    .dataframe tbody tr th:only-of-type {\n",
       "        vertical-align: middle;\n",
       "    }\n",
       "\n",
       "    .dataframe tbody tr th {\n",
       "        vertical-align: top;\n",
       "    }\n",
       "\n",
       "    .dataframe thead th {\n",
       "        text-align: right;\n",
       "    }\n",
       "</style>\n",
       "<table border=\"1\" class=\"dataframe\">\n",
       "  <thead>\n",
       "    <tr style=\"text-align: right;\">\n",
       "      <th></th>\n",
       "      <th>id</th>\n",
       "      <th>data</th>\n",
       "      <th>created_at</th>\n",
       "    </tr>\n",
       "  </thead>\n",
       "  <tbody>\n",
       "    <tr>\n",
       "      <th>1000</th>\n",
       "      <td>1001</td>\n",
       "      <td>{\"executionTime\": \"2019-05-02 03:07:52 PM\", \"s...</td>\n",
       "      <td>2019-05-02 15:08:01</td>\n",
       "    </tr>\n",
       "    <tr>\n",
       "      <th>1001</th>\n",
       "      <td>1002</td>\n",
       "      <td>{\"executionTime\": \"2019-05-02 03:08:57 PM\", \"s...</td>\n",
       "      <td>2019-05-02 15:09:02</td>\n",
       "    </tr>\n",
       "    <tr>\n",
       "      <th>1002</th>\n",
       "      <td>1003</td>\n",
       "      <td>{\"executionTime\": \"2019-05-02 03:09:51 PM\", \"s...</td>\n",
       "      <td>2019-05-02 15:10:01</td>\n",
       "    </tr>\n",
       "    <tr>\n",
       "      <th>1003</th>\n",
       "      <td>1004</td>\n",
       "      <td>{\"executionTime\": \"2019-05-02 03:10:55 PM\", \"s...</td>\n",
       "      <td>2019-05-02 15:11:01</td>\n",
       "    </tr>\n",
       "    <tr>\n",
       "      <th>1004</th>\n",
       "      <td>1005</td>\n",
       "      <td>{\"executionTime\": \"2019-05-02 03:12:00 PM\", \"s...</td>\n",
       "      <td>2019-05-02 15:12:02</td>\n",
       "    </tr>\n",
       "  </tbody>\n",
       "</table>\n",
       "</div>"
      ],
      "text/plain": [
       "        id                                               data  \\\n",
       "1000  1001  {\"executionTime\": \"2019-05-02 03:07:52 PM\", \"s...   \n",
       "1001  1002  {\"executionTime\": \"2019-05-02 03:08:57 PM\", \"s...   \n",
       "1002  1003  {\"executionTime\": \"2019-05-02 03:09:51 PM\", \"s...   \n",
       "1003  1004  {\"executionTime\": \"2019-05-02 03:10:55 PM\", \"s...   \n",
       "1004  1005  {\"executionTime\": \"2019-05-02 03:12:00 PM\", \"s...   \n",
       "\n",
       "               created_at  \n",
       "1000  2019-05-02 15:08:01  \n",
       "1001  2019-05-02 15:09:02  \n",
       "1002  2019-05-02 15:10:01  \n",
       "1003  2019-05-02 15:11:01  \n",
       "1004  2019-05-02 15:12:02  "
      ]
     },
     "execution_count": 34,
     "metadata": {},
     "output_type": "execute_result"
    }
   ],
   "source": [
    "stations_raw.iloc[1000:1005,:]"
   ]
  },
  {
   "cell_type": "code",
   "execution_count": 33,
   "metadata": {},
   "outputs": [
    {
     "name": "stdout",
     "output_type": "stream",
     "text": [
      "{\"executionTime\": \"2019-05-02 03:07:52 PM\", \"stationBeanList\": [{\"id\": 168, \"city\": \"\", \"altitude\": \"\", \"landMark\": \"\", \"latitude\": 40.73971301, \"location\": \"\", \"longitude\": -73.99456405, \"statusKey\": 1, \"postalCode\": \"\", \"stAddress1\": \"W 18 St & 6 Ave\", \"stAddress2\": \"\", \"totalDocks\": 47, \"stationName\": \"W 18 St & 6 Ave\", \"statusValue\": \"In Service\", \"testStation\": false, \"availableBikes\": 14, \"availableDocks\": 31, \"lastCommunicationTime\": \"2019-05-02 03:06:26 PM\"}, {\"id\": 281, \"city\": \"\", \"altitude\": \"\", \"landMark\": \"\", \"latitude\": 40.7643971, \"location\": \"\", \"longitude\": -73.97371465, \"statusKey\": 1, \"postalCode\": \"\", \"stAddress1\": \"Grand Army Plaza & Central Park S\", \"stAddress2\": \"\", \"totalDocks\": 66, \"stationName\": \"Grand Army Plaza & Central Park S\", \"statusValue\": \"In Service\", \"testStation\": false, \"availableBikes\": 5, \"availableDocks\": 58, \"lastCommunicationTime\": \"2019-05-02 03:05:15 PM\"}, {\"id\": 285, \"city\": \"\", \"altitude\": \"\", \"landMark\": \"\", \"latitude\": 40.73454567, \"loca...\n"
     ]
    }
   ],
   "source": [
    "print(stations_raw.iloc[1000]['data'][:1000] + '...')"
   ]
  },
  {
   "cell_type": "code",
   "execution_count": 3,
   "metadata": {},
   "outputs": [],
   "source": [
    "\"\"\"Create pandas DataFrame with flat \"availability\" table. \n",
    "\"\"\"\n",
    "df = pd.read_csv(\"../input/availability_sep2_2019.csv\")"
   ]
  },
  {
   "cell_type": "code",
   "execution_count": 4,
   "metadata": {},
   "outputs": [
    {
     "data": {
      "text/plain": [
       "(5800274, 21)"
      ]
     },
     "execution_count": 4,
     "metadata": {},
     "output_type": "execute_result"
    }
   ],
   "source": [
    "df.shape"
   ]
  },
  {
   "cell_type": "markdown",
   "metadata": {},
   "source": [
    "#### Geocoding"
   ]
  },
  {
   "cell_type": "markdown",
   "metadata": {},
   "source": [
    "#### Weather"
   ]
  },
  {
   "cell_type": "markdown",
   "metadata": {},
   "source": [
    "#### Cron Jobs"
   ]
  },
  {
   "cell_type": "markdown",
   "metadata": {},
   "source": [
    "### Transforming"
   ]
  },
  {
   "cell_type": "markdown",
   "metadata": {},
   "source": [
    "#### Availability by Station"
   ]
  },
  {
   "cell_type": "markdown",
   "metadata": {},
   "source": [
    "#### Predicted vs Observed Weather"
   ]
  },
  {
   "cell_type": "code",
   "execution_count": 4,
   "metadata": {},
   "outputs": [
    {
     "name": "stdout",
     "output_type": "stream",
     "text": [
      "[NbConvertApp] Converting notebook analysis.ipynb to markdown\n",
      "[NbConvertApp] Writing 5518 bytes to ../README.md\n"
     ]
    }
   ],
   "source": [
    "\"\"\"Creates README.md file for a better GitHub reading experience. \n",
    "\"\"\"\n",
    "!jupyter nbconvert --output-dir='..' --to markdown analysis.ipynb --output README.md"
   ]
  }
 ],
 "metadata": {
  "file_extension": ".py",
  "kernelspec": {
   "display_name": "Python 3",
   "language": "python",
   "name": "python3"
  },
  "language_info": {
   "codemirror_mode": {
    "name": "ipython",
    "version": 3
   },
   "file_extension": ".py",
   "mimetype": "text/x-python",
   "name": "python",
   "nbconvert_exporter": "python",
   "pygments_lexer": "ipython3",
   "version": "3.7.3"
  },
  "mimetype": "text/x-python",
  "name": "python",
  "npconvert_exporter": "python",
  "pygments_lexer": "ipython3",
  "version": 3
 },
 "nbformat": 4,
 "nbformat_minor": 2
}
