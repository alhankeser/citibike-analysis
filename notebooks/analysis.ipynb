{
 "cells": [
  {
   "cell_type": "markdown",
   "metadata": {},
   "source": [
    "# Extracting and Transforming Citi Bike Data for Analysis \n",
    "## How is Citi Bike availability affected by various factors like time of day and weather?\n",
    "\n",
    "### Who:\n",
    "I am [Alhan Keser](https://blog.alhan.co/), a [10+ year specialist in Web Experimentation](https://www.linkedin.com/in/alhankeser/) (aka A/B Testing, Conversion Optimization), on my way to a Master's in Data Science.\n",
    "\n",
    "### What:\n",
    "This is an original analysis of Citi Bike station data from May-June 2019 to find out what affect the day of week, time of day, and weather (temperature, precipitation, etc...) have on the availability of bikes at station-,  neighborhood-, and borough-levels. \n",
    "\n",
    "### Why:\n",
    "- I wanted to push myself to extract and transform my own data. Skipping the entire ETL process and going straight into analysis is a luxury: it does not reflect reality. \n",
    "- Doing a time-series analysis is something that I wanted practice with. \n",
    "- I commute by bike every day (despite weather) so I have first-hand evidence that Citi Bike riders tend to shy away from biking in inclement weather. It will be interesting to visualize the differences here.   \n",
    "\n",
    "### How:\n",
    "- **Combined original data sources:**\n",
    "    - [Citi Bike Live Station Status](https://feeds.citibikenyc.com/stations/stations.json)\n",
    "    - [Dark Sky Weather API](https://darksky.net/dev/docs)\n",
    "    - [Google Geocoding API](https://developers.google.com/maps/documentation/geocoding/intro)\n",
    "- **Created cron jobs** to collect Citi Bike station statuses for all ~858 stations, every 3 minutes, for ~2 months.\n",
    "    - Total rows in final table: 5,800,274\n",
    "    - \"Why stop after 2 months,\" you ask? Because my server ran out of space while I was on vacation. Here's what that looks like: \n",
    "\n",
    "![My server crashed July 14](https://blog.alhan.co/storage/images/posts/2/web-server-crashed_2_1568434613_sm.jpg)\n",
    "- **Created a mini-ETL process** to transform data into the final output used below. \n",
    "    - Along the way, there were many errors, some of which I will resolve here.\n",
    "\n",
    "### Table of Contents\n",
    "- [Packages](#Packages)\n",
    "- [Extracting](#Extracting)\n",
    "    - [Stations-Raw](#Stations-Raw)\n",
    "    - [Stations-Flat](#Stations-Flat)\n",
    "    - [Geocoding](#Geocoding)\n",
    "    - [Weather](#Weather)\n",
    "    - [Cron Jobs](#Cron-Jobs)\n",
    "- [Transforming](#Transforming)\n",
    "    - [Availability by Station](#Availability-by-Station)\n",
    "- [Exploratory Data Analysis](#Exploratory-Data-Analysis)\n",
    "    "
   ]
  },
  {
   "cell_type": "markdown",
   "metadata": {},
   "source": [
    "### Packages\n",
    "Importing a few packages that will help with describing, cleaning and visualizing things. "
   ]
  },
  {
   "cell_type": "code",
   "execution_count": 2,
   "metadata": {},
   "outputs": [],
   "source": [
    "import numpy as np\n",
    "import pandas as pd\n",
    "import matplotlib.pyplot as plt\n",
    "import seaborn as sns\n",
    "import random\n",
    "import warnings\n",
    "warnings.filterwarnings('ignore')\n",
    "pd.set_option('display.max_columns', None)"
   ]
  },
  {
   "cell_type": "markdown",
   "metadata": {},
   "source": [
    "### Extracting\n",
    "I started by find an interesting data source. In this case, I found the [Citi Bike Station Feed](https://feeds.citibikenyc.com/stations/stations.json) via the [NYC Open Data site](https://opendata.cityofnewyork.us/).\n",
    "\n",
    "The feed shows the latest statuses of ~858 Citi Bike stations. Below is a list of values per station and sample data for each. Any keys left blank are often blank in the data source as well, which I'll address in later steps. \n",
    "\n",
    "| key | sample value |\n",
    "|------------:|:---------|\n",
    "| `id`        | 285|\n",
    "| `stationName` |\"Broadway & E 14St\"|\n",
    "| `availableDocks` |20|\n",
    "| `totalDocks` |53|\n",
    "| `latitude`|40.73454567|\n",
    "| `longitude`   |-73.99074142|\n",
    "| `statusValue` |\"In Service\"|\n",
    "| `statusKey`   |1|\n",
    "| `availableBikes` |31|\n",
    "| `stAddress1`  |\"Broadway & E 14 St\"|\n",
    "| `stAddress2`  |\"\"|\n",
    "| `city`        |\"\"|\n",
    "| `postalCode`  |\"\"|\n",
    "| `location`    |\"\"|\n",
    "| `altitude`    |\"\"|\n",
    "| `testStation` |false|\n",
    "| `lastCommunicationTime` |\"2019-09-12 08:38:21 PM\"|\n",
    "| `landMark`    |\"\"|"
   ]
  },
  {
   "cell_type": "markdown",
   "metadata": {},
   "source": [
    "#### Stations-Raw\n",
    "\n",
    "To have a back-up in case any of the subsequent steps went awry, I wanted to store the source data in the simplest way possible: a table `stations_raw` that stored the following: \n",
    "\n",
    "|column_name|data_type|sample value|\n",
    "|-----------|-----------|----------|\n",
    "|id         |int4|31419|\n",
    "|status     |json|{\"executionTime\": \"2019-06-22 01:53:41 PM\", \"s...|\n",
    "\n",
    "Once the table created, I needed a way to collect data. A quick solution -- for me -- was to create [a Laravel application](https://github.com/alhankeser/citibike-tracker/)  that [makes it easy create console commands](https://laravel.com/docs/5.8/artisan#writing-commands). In combination with [Laravel Forge](https://forge.laravel.com), it's easy to set up a cron job that triggers [the necessary command](https://github.com/alhankeser/citibike-tracker/blob/d61f82adde88c90430205785297abf9f3de07c4d/app/Console/Kernel.php#L49) at set intervals.\n",
    "\n",
    "Once the commands created, I set up a [cron job](#Cron-Jobs) that ran once every 3 minutes. This resulted in the collection of 41,325 rows."
   ]
  },
  {
   "cell_type": "markdown",
   "metadata": {},
   "source": [
    "#### Stations-Flat\n",
    "As part of the same command that creates the [stations_raw](#Stations-Raw) table, I [flattened out the JSON](https://github.com/alhankeser/citibike-tracker/blob/d61f82adde88c90430205785297abf9f3de07c4d/app/Console/Kernel.php#L80) and created a table with a single row per 3-minute interval, per station. We'll call this table `stations_flat` (probably could have used a better naming convention throughout this project). \n",
    "\n",
    "Here is the structure of `stations_flat` and some sample data:\n",
    "\n",
    "|column_name|data_type|sample value|description|\n",
    "|-----------|---------|------------|-----------|\n",
    "|id         |int4     |10511778    |row id|\n",
    "|station_id |int4     |72          |unique id for each station|\n",
    "|available_bikes|int4 |4           |number of available bikes at the station|\n",
    "|available_docks|int4 |49          |number of available docks (places to park a bike) at the station|\n",
    "|station_status|text  |In Service  |whether the station is in or out of service|\n",
    "|last_communication_time|timestamp|2019-05-15 01:14:15|the last time the station sent back data|\n",
    "\n",
    "After just over 2 months of this, I ended up with **34,301,048 rows** in this table. Luckily, I took some steps to make the volume of data more manageable when analyzing outside of a high CPU/RAM environment. "
   ]
  },
  {
   "cell_type": "markdown",
   "metadata": {},
   "source": [
    "#### Stations-Static\n",
    "As the name suggests, `stations_static` contains information about each station that doesn't change minute-to-minute. Since there was a likelihood that stations be added, removed, renamed, I inserted or updated on duplicate each time `stations_flat` was updated. \n",
    "\n",
    "|column_name|data_type|sample value|description|\n",
    "|-----------|---------|------------|-----------|\n",
    "|id| int4|3119|unique `station_id` found throughout db|\n",
    "|name| text|Vernon Blvd & 50 Ave||\n",
    "|latitude |float8|40.74232744||\n",
    "|longitude |float8|-73.95411749||\n",
    "|status_key| int4|1||\n",
    "|postal_code| text|NULL||\n",
    "|st_address_1| text|Vernon Blvd & 50 Ave||\n",
    "|st_address_2| text|NULL||\n",
    "|total_docks| int4|45||\n",
    "|status| text|In Service||\n",
    "|altitude| text|NULL||\n",
    "|location| text|NULL||\n",
    "|land_mark| text|NULL||\n",
    "|city| text|NULL||\n",
    "|is_test_station| int4|0||"
   ]
  },
  {
   "cell_type": "markdown",
   "metadata": {},
   "source": [
    "#### Geocoding\n",
    "As can be seen from the `stations_static` table above, many of the location-related values are null. This was the case for all stations. I wanted to be able to group stations by neighborhood and zip. Also, I wanted to use zip to associate weather data to each station, without having to make separate requests for each station (to stay within the free tier of the [Dark Sky Weather API](https://darksky.net/dev/docs)). \n",
    "\n",
    "To geocode from lat/long for each station into human-readeable location info, I used the [Google Geocoding API](https://developers.google.com/maps/documentation/geocoding/intro). [See the command I used to create the below table](https://github.com/alhankeser/citibike-tracker/blob/d61f82adde88c90430205785297abf9f3de07c4d/app/Console/Kernel.php#L92)\n",
    "\n",
    "|column_name|data_type|sample value|description|\n",
    "|-----------|---------|------------|-----------|\n",
    "|id|int4|1||\n",
    "|station_id|int4|3119|unique station id|\n",
    "|zip|text|11101|zip code of station|\n",
    "|hood_1|text|LIC|neighborhood or the closest thing provided by Google|\n",
    "|hood_2|text|Hunters Point|another level of neighborhood|\n",
    "|borough|text|Queens|one of 5 NYC boroughs or New Jersey|"
   ]
  },
  {
   "cell_type": "markdown",
   "metadata": {},
   "source": [
    "#### Weather\n",
    "Grouping stations by zip, I then called the [Dark Sky Weather API](https://darksky.net/dev/docs) once every hour to build the `weather` table. Reducing the scope to zip made it possible to stay within the free plan limits of Dark Sky. \n",
    "\n",
    "|column_name|data_type|sample value|description|\n",
    "|-----------|---------|------------|-----------|\n",
    "|id|int4|1||\n",
    "|time_interval|timestamptz|2019-05-02 01:00:00-04|the 15-minute interval of time to associate the weather data to|\n",
    "|summary|text|Foggy|a categorical label for weather conditions|\n",
    "|precip_intensity|float8|0|percent percipitation intensity|\n",
    "|temperature|float8|61.45|temperature in Fahrenheit|\n",
    "|apparent_temperature|float8|61.89|\"feels-like\" temperature|\n",
    "|dew_point|float8|60.82||\n",
    "|humidity|float8|0.98|percent humidity|\n",
    "|wind_speed|float8|3.11|speed in MPH|\n",
    "|wind_gust|float8|5.38|gusts in MPH|\n",
    "|cloud_cover|float8|1|percent cloud cover|\n",
    "|uv_index|float8|0||\n",
    "|visibility|float8|3.18||\n",
    "|ozone|float8|316.23||\n",
    "|status|text|observed|one of two values (\"predicted\"/\"observed\") depending on if the weather values are from the past or the future|"
   ]
  },
  {
   "cell_type": "markdown",
   "metadata": {},
   "source": [
    "#### Cron Jobs\n",
    "I'm not going to spend a lot of time on discussing cron jobs, but here are the patterns I was using to run everything. There is probably a more optimal approach that I am not aware of. \n",
    "\n",
    "|Cron       |Command|\n",
    "|-----------|-------|\n",
    "|\\*/3 \\* \\* \\* \\* | get:docks && update:availability 0 && update:weather|\n",
    "|0 \\*/2 \\* \\* \\*  | get:weather 0|\n",
    "\n",
    "View the code behind each command:\n",
    "- `get:docks` [view](https://github.com/alhankeser/citibike-tracker/blob/d61f82adde88c90430205785297abf9f3de07c4d/app/Console/Kernel.php#L49)\n",
    "- `update:availability 0` [view](https://github.com/alhankeser/citibike-tracker/blob/d61f82adde88c90430205785297abf9f3de07c4d/app/Console/Kernel.php#L179)\n",
    "- `update:weather` [view](https://github.com/alhankeser/citibike-tracker/blob/d61f82adde88c90430205785297abf9f3de07c4d/app/Console/Kernel.php#L359)\n",
    "- `get:weather 0` [view](https://github.com/alhankeser/citibike-tracker/blob/d61f82adde88c90430205785297abf9f3de07c4d/app/Console/Kernel.php#L276)"
   ]
  },
  {
   "cell_type": "markdown",
   "metadata": {},
   "source": [
    "### Transforming\n",
    "Once I had the 1 raw table and 4 tables above updating as expected, I created a single, flat table that had the final data I intended to use for analysis. I kept most columns except some of the minutiae of the `weather` table. This table was updated regularly such that I could run analyses on an on-going basis and avoid having to run a massive, single query after all data had been collected.   "
   ]
  },
  {
   "cell_type": "markdown",
   "metadata": {},
   "source": [
    "#### Availability by Station\n",
    "Below is the flat table `availability` that combined the above tables, purpose-built for analysis. Note that available_bikes is the minimum number of bikes available during any of the 3-minute intervals during which samples were collected over the course of each 15-minute interval. \n",
    "\n",
    "|column_name|data_type|\n",
    "|-----------|---------|\n",
    "|time_interval|timestamptz|\n",
    "|station_id|int4|\n",
    "|station_name|text|\n",
    "|station_status|text|\n",
    "|latitude|float8|\n",
    "|longitude|float8|\n",
    "|zip|text|\n",
    "|borough|text|\n",
    "|hood|text|\n",
    "|available_bikes|int4|\n",
    "|available_docks|int4|\n",
    "|weather_summary|text|\n",
    "|precip_intensity|float8|\n",
    "|temperature|float8|\n",
    "|humidity|float8|\n",
    "|wind_speed|float8|\n",
    "|wind_gust|float8|\n",
    "|cloud_cover|float8|\n",
    "|weather_status|text|\n",
    "|created_at|timestamptz|\n",
    "|updated_at|timestamptz|"
   ]
  },
  {
   "cell_type": "markdown",
   "metadata": {},
   "source": [
    "### Exploratory Data Analysis\n",
    "On to the fun part! Now that I've got all of my station-by-station availability by 15-minute interval, it's time to explore. "
   ]
  },
  {
   "cell_type": "markdown",
   "metadata": {},
   "source": [
    "#### Reducing Complexity\n",
    "First things first, I wanted to reduce the number of stations I was analyzing. The `availability` table resulted in nearly 6 million rows after 2 months, so I decided to export a subset of \"interesting\" stations to begin analyzing. Below is the query I used to find the interesting stations, based on whether there is a high variability in number of bikes, that the bikes regularly get refilled, and that the station has a decent number of bikes. I also limited the number of stations per neighborhood to 1.  \n",
    "https://gist.github.com/alhankeser/9fbaf67a8ce052de72f22ab1630cd91c\n",
    "\n",
    "```sql\n",
    "with variability as (\n",
    "    select\n",
    "\t\tborough,\n",
    "\t\thood,\n",
    "\t\tstation_name,\n",
    "\t\tstation_id,\n",
    "\t\tmax(available_bikes) as max_bikes,\n",
    "\t\tsum(case when available_bikes = 0 then 1 else 0 end) as times_no_bikes,\n",
    "\t\tsum(case when available_docks = 0 then 1 else 0 end) as times_replenished\n",
    "\tfrom \n",
    "\t\tavailability\n",
    "\twhere\n",
    "\t\tstation_status = 'In Service'\n",
    "\tgroup by\n",
    "\t\tstation_id, station_name, hood, borough\n",
    "),\n",
    "percentiles as ( \n",
    "\tselect\n",
    "\t\t*,\n",
    "        ntile(100) over (order by max_bikes asc) max_bikes_percentile,\n",
    "\t\tntile(100) over (order by times_no_bikes asc) no_bikes_percentile,\n",
    "\t \tntile(100) over (order by times_replenished asc) times_replenished_percentile\n",
    "\tfrom\n",
    "\t\tvariability\n",
    "\torder by times_no_bikes\n",
    "),\n",
    "ranks as (\n",
    "\tselect\n",
    "\t\t*,\n",
    "\t\t(max_bikes_percentile + no_bikes_percentile + times_replenished_percentile) as score,\n",
    "\t\trank() over (partition by hood order by (max_bikes_percentile + no_bikes_percentile + times_replenished_percentile) desc) as rank\n",
    "\tfrom \n",
    "\t\tpercentiles\n",
    "\twhere\n",
    "\t\tmax_bikes_percentile > 40 \n",
    "\t\tand no_bikes_percentile > 50\n",
    "\t\tand times_replenished_percentile > 50\n",
    "),\n",
    "ranked_by_hood as (\n",
    "\tselect\n",
    "\t\t*\n",
    "\tfrom \n",
    "\t\tranks\n",
    "\twhere\n",
    "\t\trank = 1 \n",
    "\torder by\n",
    "\t\tscore desc\n",
    ")\n",
    "select\n",
    "\ta.*\n",
    "from\n",
    "\tavailability as a\n",
    "join \n",
    "\tranked_by_hood as rbh \n",
    "\ton a.station_id = rbh.station_id;\n",
    "```"
   ]
  },
  {
   "cell_type": "markdown",
   "metadata": {},
   "source": [
    "The query above reduced the nearly 6 million rows down to 186,000. The csv export used for the analysis below can be [found here](https://github.com/alhankeser/citibike-analysis/blob/master/input/availability_interesting_original.csv). "
   ]
  },
  {
   "cell_type": "markdown",
   "metadata": {},
   "source": [
    "#### Load Data"
   ]
  },
  {
   "cell_type": "code",
   "execution_count": 30,
   "metadata": {},
   "outputs": [],
   "source": [
    "date_cols = ['time_interval', 'updated_at', 'created_at']\n",
    "df = pd.read_csv('../input/availability_interesting_original.csv', parse_dates=date_cols)"
   ]
  },
  {
   "cell_type": "code",
   "execution_count": 31,
   "metadata": {},
   "outputs": [
    {
     "name": "stdout",
     "output_type": "stream",
     "text": [
      "<class 'pandas.core.frame.DataFrame'>\n",
      "RangeIndex: 186030 entries, 0 to 186029\n",
      "Data columns (total 21 columns):\n",
      "station_id          186030 non-null int64\n",
      "station_name        186030 non-null object\n",
      "station_status      186030 non-null object\n",
      "latitude            186030 non-null float64\n",
      "longitude           186030 non-null float64\n",
      "zip                 186030 non-null int64\n",
      "borough             186030 non-null object\n",
      "hood                186030 non-null object\n",
      "available_bikes     186030 non-null int64\n",
      "available_docks     186030 non-null int64\n",
      "time_interval       186030 non-null datetime64[ns]\n",
      "created_at          186030 non-null datetime64[ns]\n",
      "weather_summary     88053 non-null object\n",
      "precip_intensity    88053 non-null float64\n",
      "temperature         88053 non-null float64\n",
      "humidity            88053 non-null float64\n",
      "wind_speed          88053 non-null float64\n",
      "wind_gust           88053 non-null float64\n",
      "cloud_cover         88053 non-null float64\n",
      "weather_status      88053 non-null object\n",
      "updated_at          186030 non-null datetime64[ns]\n",
      "dtypes: datetime64[ns](3), float64(8), int64(4), object(6)\n",
      "memory usage: 29.8+ MB\n"
     ]
    }
   ],
   "source": [
    "df.info()"
   ]
  },
  {
   "cell_type": "code",
   "execution_count": 42,
   "metadata": {
    "scrolled": false
   },
   "outputs": [
    {
     "name": "stdout",
     "output_type": "stream",
     "text": [
      "   station_id station_name station_status   latitude  longitude   zip  \\\n",
      "0        3195      Sip Ave     In Service  40.730897 -74.063913  7306   \n",
      "1        3195      Sip Ave     In Service  40.730897 -74.063913  7306   \n",
      "2        3195      Sip Ave     In Service  40.730897 -74.063913  7306   \n",
      "\n",
      "      borough            hood  available_bikes  available_docks  \\\n",
      "0  New Jersey  Journal Square                1               33   \n",
      "1  New Jersey  Journal Square                0               34   \n",
      "2  New Jersey  Journal Square                0               34   \n",
      "\n",
      "        time_interval          created_at weather_summary  precip_intensity  \\\n",
      "0 2019-05-13 02:45:00 2019-05-13 02:45:04        Overcast               0.0   \n",
      "1 2019-05-13 02:30:00 2019-05-13 02:30:04        Overcast               0.0   \n",
      "2 2019-05-13 02:15:00 2019-05-13 02:15:05        Overcast               0.0   \n",
      "\n",
      "   temperature  humidity  wind_speed  wind_gust  cloud_cover weather_status  \\\n",
      "0        44.86      0.91        6.85       9.65          1.0      predicted   \n",
      "1        44.86      0.91        6.85       9.65          1.0      predicted   \n",
      "2        44.86      0.91        6.85       9.65          1.0      predicted   \n",
      "\n",
      "           updated_at  \n",
      "0 2019-05-13 02:45:04  \n",
      "1 2019-05-13 02:45:04  \n",
      "2 2019-05-13 02:45:04  \n"
     ]
    }
   ],
   "source": [
    "print(df.head(3)) #printing to improve how this looks in the README.md markdown file"
   ]
  },
  {
   "cell_type": "markdown",
   "metadata": {},
   "source": [
    "#### Data Quality Issues\n",
    "Without much digging, it's easy to spot some data quality/consistency issues: \n",
    "1. `weather_status` should be 'observed' for all locations rather than 'predicted' since the dates are in the past. \n",
    "1. `zip` is being converted to an integer and thus dropping the 0, which is may or may not be an issue. If wish to solve problem #1 then this chould be an issue. "
   ]
  },
  {
   "cell_type": "markdown",
   "metadata": {},
   "source": [
    "#### Fixing the zip data_type issue\n",
    "The issue related to zip codes is related to New Jersey's that start with a zero. There are two options to fix this:  \n",
    "1. Mutate the existing column to a string and insert a 0 to the beginning of the incorrect zip.  \n",
    "OR  \n",
    "2. Read the csv with dtype specified as `str` for the `zip` column. \n",
    "\n",
    "Going to go with option #2 and re-import the csv correctly, then check that `zip` is in fact treated as a string:"
   ]
  },
  {
   "cell_type": "code",
   "execution_count": 7,
   "metadata": {},
   "outputs": [],
   "source": [
    "date_cols = ['time_interval', 'updated_at', 'created_at']\n",
    "data_types = {'zip': str}\n",
    "df = pd.read_csv('../input/availability_interesting_original.csv', parse_dates=date_cols, dtype=data_types)"
   ]
  },
  {
   "cell_type": "code",
   "execution_count": 13,
   "metadata": {},
   "outputs": [
    {
     "data": {
      "text/plain": [
       "dtype('O')"
      ]
     },
     "execution_count": 13,
     "metadata": {},
     "output_type": "execute_result"
    }
   ],
   "source": [
    "df['zip'].dtype"
   ]
  },
  {
   "cell_type": "markdown",
   "metadata": {},
   "source": [
    "#### Fixing the missing weather issue\n",
    "As for why weather_status is not set to 'observed', which would mean that the weather data my be inaccurate (since only the predicted weather was captured), I will need to first measure the extent of the problem, then remedy by fetching the correct weather data.\n",
    "\n",
    "First, let's get an understanding of the rows affected: "
   ]
  },
  {
   "cell_type": "code",
   "execution_count": 68,
   "metadata": {},
   "outputs": [
    {
     "name": "stdout",
     "output_type": "stream",
     "text": [
      "Weather Status: \n",
      "6448 3.0%  Predicted\n",
      "81605 44.0%  Observed\n",
      "97977 53.0% NAs\n"
     ]
    }
   ],
   "source": [
    "print('Weather Status: ')\n",
    "print(df[df['weather_status'] == 'predicted'].count()[0], str(round(df[df['weather_status'] == 'predicted'].count()[0]/df.count()[0]*100)) + '%' , ' Predicted')\n",
    "print(df[df['weather_status'] == 'observed'].count()[0], str(round(df[df['weather_status'] == 'observed'].count()[0]/df.count()[0]*100)) + '%', ' Observed')\n",
    "print(df[df['weather_status'].isna()].count()[0], str(round(df[df['weather_status'].isna()].count()[0]/df.count()[0]*100)) + '%'' NAs')"
   ]
  },
  {
   "cell_type": "markdown",
   "metadata": {},
   "source": [
    "It is apparent that there is a larger issue here: we have `nan` values in the `weather_status` column! Let's assume that there is no option to go back and re-run the original commands that fetched the weather data in the first place and that I will have to do this all here...\n",
    "\n",
    "Let's see which stations are affected by the missing weather_status data: "
   ]
  },
  {
   "cell_type": "code",
   "execution_count": 101,
   "metadata": {},
   "outputs": [
    {
     "name": "stdout",
     "output_type": "stream",
     "text": [
      "['UES' 'Williamsburg' 'LIC' 'New York County' 'Yorkville' 'UWS'\n",
      " 'Journal Square' 'Park Slope' 'Downtown Brooklyn' 'Chelsea'\n",
      " 'Prospect Heights' 'Crown Heights' 'Lincoln Square' 'Alphabet City'\n",
      " 'Canal Street' 'Financial District' 'Little Italy' 'Tribeca'\n",
      " 'Ukrainian Village' 'Battery Park City' 'West Village' 'Clinton Hill'\n",
      " 'Lower East Side' \"Hell's Kitchen\" 'Midtown East' 'Peter Cooper Village'\n",
      " 'Stuyvesant Town-Peter Cooper Village']\n"
     ]
    }
   ],
   "source": [
    "print(df[df['weather_status'].isna()]['hood'].unique())"
   ]
  },
  {
   "cell_type": "code",
   "execution_count": 100,
   "metadata": {},
   "outputs": [
    {
     "name": "stdout",
     "output_type": "stream",
     "text": [
      "['10075' '11249' '11101' '10022' '10028' '10024' '07306' '11215' '11201'\n",
      " '10011' '11238' '10023' '10009' '10013' '10004' '10007' '10003' '10282'\n",
      " '10014' '11205' '10002' '10036' '10010']\n"
     ]
    }
   ],
   "source": [
    "print(df[df['weather_status'].isna()]['zip'].unique())"
   ]
  },
  {
   "cell_type": "code",
   "execution_count": 102,
   "metadata": {},
   "outputs": [
    {
     "name": "stdout",
     "output_type": "stream",
     "text": [
      "4928\n"
     ]
    }
   ],
   "source": [
    "print(len(df[df['weather_status'].isna()]['time_interval'].unique()))"
   ]
  },
  {
   "cell_type": "code",
   "execution_count": null,
   "metadata": {},
   "outputs": [],
   "source": []
  },
  {
   "cell_type": "markdown",
   "metadata": {},
   "source": [
    "Auto-Generate README.md:"
   ]
  },
  {
   "cell_type": "code",
   "execution_count": 103,
   "metadata": {},
   "outputs": [
    {
     "name": "stdout",
     "output_type": "stream",
     "text": [
      "[NbConvertApp] Converting notebook analysis.ipynb to markdown\n",
      "[NbConvertApp] Writing 20048 bytes to ../README.md\n"
     ]
    }
   ],
   "source": [
    "!jupyter nbconvert --output-dir='..' --to markdown analysis.ipynb --output README.md"
   ]
  },
  {
   "cell_type": "code",
   "execution_count": null,
   "metadata": {},
   "outputs": [],
   "source": []
  }
 ],
 "metadata": {
  "file_extension": ".py",
  "kernelspec": {
   "display_name": "Python 3",
   "language": "python",
   "name": "python3"
  },
  "language_info": {
   "codemirror_mode": {
    "name": "ipython",
    "version": 3
   },
   "file_extension": ".py",
   "mimetype": "text/x-python",
   "name": "python",
   "nbconvert_exporter": "python",
   "pygments_lexer": "ipython3",
   "version": "3.7.3"
  },
  "mimetype": "text/x-python",
  "name": "python",
  "npconvert_exporter": "python",
  "pygments_lexer": "ipython3",
  "version": 3
 },
 "nbformat": 4,
 "nbformat_minor": 2
}
